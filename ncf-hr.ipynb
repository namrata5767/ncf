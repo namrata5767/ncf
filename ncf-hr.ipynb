{
 "cells": [
  {
   "cell_type": "code",
   "execution_count": 1,
   "id": "3ebac48d",
   "metadata": {
    "_cell_guid": "b1076dfc-b9ad-4769-8c92-a6c4dae69d19",
    "_uuid": "8f2839f25d086af736a60e9eeb907d3b93b6e0e5",
    "execution": {
     "iopub.execute_input": "2024-02-15T20:51:52.090359Z",
     "iopub.status.busy": "2024-02-15T20:51:52.089793Z",
     "iopub.status.idle": "2024-02-15T20:51:57.874840Z",
     "shell.execute_reply": "2024-02-15T20:51:57.873451Z"
    },
    "papermill": {
     "duration": 5.796913,
     "end_time": "2024-02-15T20:51:57.877243",
     "exception": false,
     "start_time": "2024-02-15T20:51:52.080330",
     "status": "completed"
    },
    "tags": []
   },
   "outputs": [],
   "source": [
    "import pandas as pd\n",
    "import numpy as np\n",
    "from sklearn import model_selection, metrics, preprocessing\n",
    "import torch\n",
    "import torch.nn as nn\n",
    "import matplotlib.pyplot as plt \n",
    "from torch.utils.data import Dataset, DataLoader\n",
    "import torch.nn.functional as F\n"
   ]
  },
  {
   "cell_type": "code",
   "execution_count": 2,
   "id": "b549c9ba",
   "metadata": {
    "execution": {
     "iopub.execute_input": "2024-02-15T20:51:57.894065Z",
     "iopub.status.busy": "2024-02-15T20:51:57.893307Z",
     "iopub.status.idle": "2024-02-15T20:51:57.981558Z",
     "shell.execute_reply": "2024-02-15T20:51:57.980703Z"
    },
    "papermill": {
     "duration": 0.098948,
     "end_time": "2024-02-15T20:51:57.983777",
     "exception": false,
     "start_time": "2024-02-15T20:51:57.884829",
     "status": "completed"
    },
    "tags": []
   },
   "outputs": [],
   "source": [
    "df = pd.read_csv(\"/kaggle/input/movielens-9000-movies-dataset/ml-latest-small/ratings.csv\")"
   ]
  },
  {
   "cell_type": "code",
   "execution_count": 3,
   "id": "40cacf78",
   "metadata": {
    "execution": {
     "iopub.execute_input": "2024-02-15T20:51:58.000206Z",
     "iopub.status.busy": "2024-02-15T20:51:57.999565Z",
     "iopub.status.idle": "2024-02-15T20:51:58.031751Z",
     "shell.execute_reply": "2024-02-15T20:51:58.030870Z"
    },
    "papermill": {
     "duration": 0.042542,
     "end_time": "2024-02-15T20:51:58.033857",
     "exception": false,
     "start_time": "2024-02-15T20:51:57.991315",
     "status": "completed"
    },
    "tags": []
   },
   "outputs": [
    {
     "name": "stdout",
     "output_type": "stream",
     "text": [
      "<class 'pandas.core.frame.DataFrame'>\n",
      "RangeIndex: 100836 entries, 0 to 100835\n",
      "Data columns (total 4 columns):\n",
      " #   Column     Non-Null Count   Dtype  \n",
      "---  ------     --------------   -----  \n",
      " 0   userId     100836 non-null  int64  \n",
      " 1   movieId    100836 non-null  int64  \n",
      " 2   rating     100836 non-null  float64\n",
      " 3   timestamp  100836 non-null  int64  \n",
      "dtypes: float64(1), int64(3)\n",
      "memory usage: 3.1 MB\n"
     ]
    }
   ],
   "source": [
    "df.info() # basically show schema"
   ]
  },
  {
   "cell_type": "code",
   "execution_count": 4,
   "id": "e1f83869",
   "metadata": {
    "execution": {
     "iopub.execute_input": "2024-02-15T20:51:58.049513Z",
     "iopub.status.busy": "2024-02-15T20:51:58.049191Z",
     "iopub.status.idle": "2024-02-15T20:51:58.058014Z",
     "shell.execute_reply": "2024-02-15T20:51:58.057302Z"
    },
    "papermill": {
     "duration": 0.018481,
     "end_time": "2024-02-15T20:51:58.059684",
     "exception": false,
     "start_time": "2024-02-15T20:51:58.041203",
     "status": "completed"
    },
    "tags": []
   },
   "outputs": [
    {
     "data": {
      "text/plain": [
       "610"
      ]
     },
     "execution_count": 4,
     "metadata": {},
     "output_type": "execute_result"
    }
   ],
   "source": [
    "df.userId.nunique()"
   ]
  },
  {
   "cell_type": "code",
   "execution_count": 5,
   "id": "b6aae226",
   "metadata": {
    "execution": {
     "iopub.execute_input": "2024-02-15T20:51:58.076476Z",
     "iopub.status.busy": "2024-02-15T20:51:58.076113Z",
     "iopub.status.idle": "2024-02-15T20:51:58.083867Z",
     "shell.execute_reply": "2024-02-15T20:51:58.082878Z"
    },
    "papermill": {
     "duration": 0.018361,
     "end_time": "2024-02-15T20:51:58.085781",
     "exception": false,
     "start_time": "2024-02-15T20:51:58.067420",
     "status": "completed"
    },
    "tags": []
   },
   "outputs": [
    {
     "data": {
      "text/plain": [
       "9724"
      ]
     },
     "execution_count": 5,
     "metadata": {},
     "output_type": "execute_result"
    }
   ],
   "source": [
    "df.movieId.nunique()"
   ]
  },
  {
   "cell_type": "code",
   "execution_count": 6,
   "id": "d5861f50",
   "metadata": {
    "execution": {
     "iopub.execute_input": "2024-02-15T20:51:58.104492Z",
     "iopub.status.busy": "2024-02-15T20:51:58.103914Z",
     "iopub.status.idle": "2024-02-15T20:51:58.113642Z",
     "shell.execute_reply": "2024-02-15T20:51:58.112749Z"
    },
    "papermill": {
     "duration": 0.021219,
     "end_time": "2024-02-15T20:51:58.115354",
     "exception": false,
     "start_time": "2024-02-15T20:51:58.094135",
     "status": "completed"
    },
    "tags": []
   },
   "outputs": [
    {
     "data": {
      "text/plain": [
       "rating\n",
       "4.0    26818\n",
       "3.0    20047\n",
       "5.0    13211\n",
       "3.5    13136\n",
       "4.5     8551\n",
       "2.0     7551\n",
       "2.5     5550\n",
       "1.0     2811\n",
       "1.5     1791\n",
       "0.5     1370\n",
       "Name: count, dtype: int64"
      ]
     },
     "execution_count": 6,
     "metadata": {},
     "output_type": "execute_result"
    }
   ],
   "source": [
    "df.rating.value_counts() #check value distribution"
   ]
  },
  {
   "cell_type": "code",
   "execution_count": 7,
   "id": "3722e1d4",
   "metadata": {
    "execution": {
     "iopub.execute_input": "2024-02-15T20:51:58.132179Z",
     "iopub.status.busy": "2024-02-15T20:51:58.131802Z",
     "iopub.status.idle": "2024-02-15T20:51:58.137803Z",
     "shell.execute_reply": "2024-02-15T20:51:58.136867Z"
    },
    "papermill": {
     "duration": 0.017405,
     "end_time": "2024-02-15T20:51:58.140367",
     "exception": false,
     "start_time": "2024-02-15T20:51:58.122962",
     "status": "completed"
    },
    "tags": []
   },
   "outputs": [
    {
     "data": {
      "text/plain": [
       "(100836, 4)"
      ]
     },
     "execution_count": 7,
     "metadata": {},
     "output_type": "execute_result"
    }
   ],
   "source": [
    "df.shape"
   ]
  },
  {
   "cell_type": "code",
   "execution_count": 8,
   "id": "7b652171",
   "metadata": {
    "execution": {
     "iopub.execute_input": "2024-02-15T20:51:58.158952Z",
     "iopub.status.busy": "2024-02-15T20:51:58.157411Z",
     "iopub.status.idle": "2024-02-15T20:51:58.164929Z",
     "shell.execute_reply": "2024-02-15T20:51:58.164286Z"
    },
    "papermill": {
     "duration": 0.018405,
     "end_time": "2024-02-15T20:51:58.166786",
     "exception": false,
     "start_time": "2024-02-15T20:51:58.148381",
     "status": "completed"
    },
    "tags": []
   },
   "outputs": [],
   "source": [
    "# Get the number of unique users and movies\n",
    "n_users = df.userId.nunique()\n",
    "n_movies = df.movieId.max() + 1\n",
    "\n"
   ]
  },
  {
   "cell_type": "code",
   "execution_count": 9,
   "id": "04809d24",
   "metadata": {
    "execution": {
     "iopub.execute_input": "2024-02-15T20:51:58.183480Z",
     "iopub.status.busy": "2024-02-15T20:51:58.183121Z",
     "iopub.status.idle": "2024-02-15T20:51:58.192988Z",
     "shell.execute_reply": "2024-02-15T20:51:58.191512Z"
    },
    "papermill": {
     "duration": 0.020339,
     "end_time": "2024-02-15T20:51:58.194782",
     "exception": false,
     "start_time": "2024-02-15T20:51:58.174443",
     "status": "completed"
    },
    "tags": []
   },
   "outputs": [
    {
     "name": "stdout",
     "output_type": "stream",
     "text": [
      "Max user index: 610\n",
      "Max movie index: 193609\n"
     ]
    }
   ],
   "source": [
    "class MovieDataset:\n",
    "    def __init__(self, df, n_users, n_movies):\n",
    "        self.users = df.userId.values\n",
    "        self.movies = df.movieId.values\n",
    "        self.ratings = df.rating.values\n",
    "        self.n_users = n_users\n",
    "        self.n_movies = n_movies\n",
    "\n",
    "    def __len__(self):\n",
    "        return len(self.users)\n",
    "\n",
    "    def __getitem__(self, item):\n",
    "        user = self.users[item]\n",
    "        movie = self.movies[item]\n",
    "        rating = self.ratings[item]\n",
    "\n",
    "        # Check and correct user index\n",
    "        if user >= self.n_users:\n",
    "            user = self.n_users - 1\n",
    "\n",
    "        # One-hot encode user and movie IDs\n",
    "        user_onehot = torch.zeros(self.n_users)\n",
    "        user_onehot[user] = 1.0\n",
    "\n",
    "        movie_onehot = torch.zeros(self.n_movies)\n",
    "        movie_onehot[movie] = 1.0\n",
    "\n",
    "        return {\n",
    "            \"users_onehot\": user_onehot,\n",
    "            \"movies_onehot\": movie_onehot,\n",
    "            \"ratings\": torch.tensor(rating, dtype=torch.float32),\n",
    "        }\n",
    "\n",
    "# Create an instance of MovieDataset with your data\n",
    "dataset = MovieDataset(df, n_users, n_movies)\n",
    "\n",
    "# Check the max indices\n",
    "print(\"Max user index:\", dataset.users.max())\n",
    "print(\"Max movie index:\", dataset.movies.max())"
   ]
  },
  {
   "cell_type": "code",
   "execution_count": 10,
   "id": "2a4b24d2",
   "metadata": {
    "execution": {
     "iopub.execute_input": "2024-02-15T20:51:58.211864Z",
     "iopub.status.busy": "2024-02-15T20:51:58.211498Z",
     "iopub.status.idle": "2024-02-15T20:51:58.219767Z",
     "shell.execute_reply": "2024-02-15T20:51:58.218846Z"
    },
    "papermill": {
     "duration": 0.019612,
     "end_time": "2024-02-15T20:51:58.222045",
     "exception": false,
     "start_time": "2024-02-15T20:51:58.202433",
     "status": "completed"
    },
    "tags": []
   },
   "outputs": [],
   "source": [
    "class RecSysModel(nn.Module):\n",
    "    def __init__(self, n_users, n_movies, emb_size=32):\n",
    "        super().__init__()\n",
    "        self.user_embed = nn.Linear(n_users, emb_size, bias=False)\n",
    "        self.movie_embed = nn.Linear(n_movies, emb_size, bias=False)\n",
    "        self.hidden1 = nn.Linear(emb_size * 2, 32)\n",
    "        self.hidden2 = nn.Linear(32, 16)\n",
    "        self.hidden3 = nn.Linear(16, 8)\n",
    "        self.out = nn.Linear(8, 1)\n",
    "\n",
    "    def forward(self, users_onehot, movies_onehot):\n",
    "        user_embeds = self.user_embed(users_onehot)\n",
    "        movie_embeds = self.movie_embed(movies_onehot)\n",
    "        user_embeds = user_embeds.view(-1, user_embeds.size(1))\n",
    "        movie_embeds = movie_embeds.view(-1, movie_embeds.size(1))\n",
    "        embedding = torch.cat([user_embeds, movie_embeds], dim=1)\n",
    "        embedding = F.relu(self.hidden1(embedding))\n",
    "        embedding = F.relu(self.hidden2(embedding))\n",
    "        embedding = F.relu(self.hidden3(embedding))\n",
    "        output = self.out(embedding)\n",
    "        return output\n",
    "\n",
    "    def predict_ratings(self, users_onehot, movies_onehot):\n",
    "        with torch.no_grad():\n",
    "            output = self(users_onehot, movies_onehot)\n",
    "        return output.squeeze().tolist()  # Convert tensor to list of ratings\n"
   ]
  },
  {
   "cell_type": "code",
   "execution_count": 11,
   "id": "ad4e0f58",
   "metadata": {
    "execution": {
     "iopub.execute_input": "2024-02-15T20:51:58.239555Z",
     "iopub.status.busy": "2024-02-15T20:51:58.239187Z",
     "iopub.status.idle": "2024-02-15T20:51:58.289880Z",
     "shell.execute_reply": "2024-02-15T20:51:58.288519Z"
    },
    "papermill": {
     "duration": 0.061625,
     "end_time": "2024-02-15T20:51:58.291883",
     "exception": false,
     "start_time": "2024-02-15T20:51:58.230258",
     "status": "completed"
    },
    "tags": []
   },
   "outputs": [
    {
     "name": "stdout",
     "output_type": "stream",
     "text": [
      "Size of Training Set: 90752\n",
      "Size of Validation Set: 10084\n"
     ]
    }
   ],
   "source": [
    "\n",
    "from sklearn.model_selection import train_test_split\n",
    "\n",
    "# Assuming 'userId' is the column representing users in your DataFrame\n",
    "df_train, df_valid = train_test_split(df, test_size=0.1, random_state=42, stratify=df['userId'].values)\n",
    "print(\"Size of Training Set:\", len(df_train))\n",
    "print(\"Size of Validation Set:\", len(df_valid))\n",
    "\n",
    "# Create datasets\n",
    "train_dataset = MovieDataset(df_train, n_users, n_movies)\n",
    "valid_dataset = MovieDataset(df_valid, n_users, n_movies)\n",
    "\n",
    "# Create data loaders\n",
    "train_loader = DataLoader(dataset=train_dataset, batch_size=4, shuffle=True, num_workers=2)\n",
    "validation_loader = DataLoader(dataset=valid_dataset, batch_size=4, shuffle=True, num_workers=2)\n",
    "#print(\"Unique User IDs in Training Set (Sorted):\")\n",
    "#print(sorted(df_train['userId'].unique()))\n",
    "\n",
    "#print(\"\\nUnique User IDs in Validation Set (Sorted):\")\n",
    "#print(sorted(df_valid['userId'].unique()))\n"
   ]
  },
  {
   "cell_type": "code",
   "execution_count": 12,
   "id": "bab584fc",
   "metadata": {
    "execution": {
     "iopub.execute_input": "2024-02-15T20:51:58.309185Z",
     "iopub.status.busy": "2024-02-15T20:51:58.308804Z",
     "iopub.status.idle": "2024-02-15T20:51:58.330367Z",
     "shell.execute_reply": "2024-02-15T20:51:58.328457Z"
    },
    "papermill": {
     "duration": 0.03304,
     "end_time": "2024-02-15T20:51:58.333015",
     "exception": false,
     "start_time": "2024-02-15T20:51:58.299975",
     "status": "completed"
    },
    "tags": []
   },
   "outputs": [
    {
     "name": "stdout",
     "output_type": "stream",
     "text": [
      "Training Set - User 1 Ratings:\n",
      "     movieId  rating\n",
      "134     2115     5.0\n",
      "99      1552     4.0\n",
      "143     2253     2.0\n",
      "76      1219     2.0\n",
      "48       954     5.0\n",
      "..       ...     ...\n",
      "204     3168     4.0\n",
      "186     2899     5.0\n",
      "132     2099     4.0\n",
      "170     2617     2.0\n",
      "3         47     5.0\n",
      "\n",
      "[209 rows x 2 columns]\n",
      "\n",
      "Validation Set - User 1 Ratings:\n",
      "     movieId  rating\n",
      "109     1777     4.0\n",
      "32       590     4.0\n",
      "216     3479     4.0\n",
      "53      1029     5.0\n",
      "141     2174     4.0\n",
      "168     2596     5.0\n",
      "193     2985     4.0\n",
      "145     2273     4.0\n",
      "67      1136     5.0\n",
      "81      1240     5.0\n",
      "47       943     4.0\n",
      "207     3247     3.0\n",
      "188     2944     5.0\n",
      "92      1377     3.0\n",
      "20       356     4.0\n",
      "98      1517     5.0\n",
      "127     2078     5.0\n",
      "160     2478     4.0\n",
      "226     3740     4.0\n",
      "162     2502     5.0\n",
      "152     2389     2.0\n",
      "111     1804     5.0\n",
      "83      1258     3.0\n"
     ]
    }
   ],
   "source": [
    "# Choose the first user ID (assuming user IDs start from 1)\n",
    "first_user_id = 1\n",
    "\n",
    "# Filter the training set for the first user\n",
    "training_ratings_first_user = df_train[df_train['userId'] == first_user_id]\n",
    "\n",
    "# Filter the validation set for the first user\n",
    "validation_ratings_first_user = df_valid[df_valid['userId'] == first_user_id]\n",
    "\n",
    "# Print information for the training set\n",
    "print(f\"Training Set - User {first_user_id} Ratings:\")\n",
    "print(training_ratings_first_user[['movieId', 'rating']])\n",
    "\n",
    "# Print information for the validation set\n",
    "print(f\"\\nValidation Set - User {first_user_id} Ratings:\")\n",
    "print(validation_ratings_first_user[['movieId', 'rating']])\n"
   ]
  },
  {
   "cell_type": "code",
   "execution_count": 13,
   "id": "6e177a70",
   "metadata": {
    "execution": {
     "iopub.execute_input": "2024-02-15T20:51:58.351100Z",
     "iopub.status.busy": "2024-02-15T20:51:58.350534Z",
     "iopub.status.idle": "2024-02-15T20:51:58.545197Z",
     "shell.execute_reply": "2024-02-15T20:51:58.543888Z"
    },
    "papermill": {
     "duration": 0.206456,
     "end_time": "2024-02-15T20:51:58.547700",
     "exception": false,
     "start_time": "2024-02-15T20:51:58.341244",
     "status": "completed"
    },
    "tags": []
   },
   "outputs": [
    {
     "name": "stdout",
     "output_type": "stream",
     "text": [
      "{'users_onehot': tensor([[0., 0., 0.,  ..., 0., 0., 0.],\n",
      "        [0., 0., 0.,  ..., 0., 0., 0.],\n",
      "        [0., 0., 0.,  ..., 0., 0., 0.],\n",
      "        [0., 0., 0.,  ..., 0., 0., 0.]]), 'movies_onehot': tensor([[0., 0., 0.,  ..., 0., 0., 0.],\n",
      "        [0., 0., 0.,  ..., 0., 0., 0.],\n",
      "        [0., 0., 0.,  ..., 0., 0., 0.],\n",
      "        [0., 0., 0.,  ..., 0., 0., 0.]]), 'ratings': tensor([3.5000, 5.0000, 4.5000, 3.5000])}\n"
     ]
    }
   ],
   "source": [
    "dataiter = iter(train_loader)\n",
    "\n",
    "for dataloader_data in dataiter:\n",
    "    print(dataloader_data)\n",
    "    break"
   ]
  },
  {
   "cell_type": "code",
   "execution_count": 14,
   "id": "9d737b61",
   "metadata": {
    "execution": {
     "iopub.execute_input": "2024-02-15T20:51:58.566572Z",
     "iopub.status.busy": "2024-02-15T20:51:58.565578Z",
     "iopub.status.idle": "2024-02-15T20:51:58.571019Z",
     "shell.execute_reply": "2024-02-15T20:51:58.570399Z"
    },
    "papermill": {
     "duration": 0.016812,
     "end_time": "2024-02-15T20:51:58.572805",
     "exception": false,
     "start_time": "2024-02-15T20:51:58.555993",
     "status": "completed"
    },
    "tags": []
   },
   "outputs": [],
   "source": [
    "device = torch.device(\"cuda\" if torch.cuda.is_available() else \"cpu\")\n"
   ]
  },
  {
   "cell_type": "code",
   "execution_count": 15,
   "id": "fa69b5f6",
   "metadata": {
    "execution": {
     "iopub.execute_input": "2024-02-15T20:51:58.590728Z",
     "iopub.status.busy": "2024-02-15T20:51:58.590188Z",
     "iopub.status.idle": "2024-02-15T20:51:58.657747Z",
     "shell.execute_reply": "2024-02-15T20:51:58.656600Z"
    },
    "papermill": {
     "duration": 0.079108,
     "end_time": "2024-02-15T20:51:58.660151",
     "exception": false,
     "start_time": "2024-02-15T20:51:58.581043",
     "status": "completed"
    },
    "tags": []
   },
   "outputs": [],
   "source": [
    "model = RecSysModel(\n",
    "    n_users, n_movies, emb_size=32\n",
    ").to(device)\n",
    "\n",
    "# Optimizer and scheduler\n",
    "#optimizer = torch.optim.Adam(model.parameters())\n",
    "optimizer = torch.optim.Adam(model.parameters(), lr=0.0001)  # Setting learning rate to 0.001\n",
    "\n",
    "scheduler = torch.optim.lr_scheduler.StepLR(optimizer, step_size=3, gamma=0.7)\n",
    "\n",
    "# Loss function\n",
    "loss_func = nn.MSELoss()"
   ]
  },
  {
   "cell_type": "code",
   "execution_count": 16,
   "id": "daebc7af",
   "metadata": {
    "execution": {
     "iopub.execute_input": "2024-02-15T20:51:58.678221Z",
     "iopub.status.busy": "2024-02-15T20:51:58.677799Z",
     "iopub.status.idle": "2024-02-15T20:51:58.684326Z",
     "shell.execute_reply": "2024-02-15T20:51:58.683508Z"
    },
    "papermill": {
     "duration": 0.01777,
     "end_time": "2024-02-15T20:51:58.686232",
     "exception": false,
     "start_time": "2024-02-15T20:51:58.668462",
     "status": "completed"
    },
    "tags": []
   },
   "outputs": [
    {
     "name": "stdout",
     "output_type": "stream",
     "text": [
      "610\n",
      "193610\n",
      "193610\n",
      "90752\n"
     ]
    }
   ],
   "source": [
    "print(n_users)\n",
    "print(n_movies)\n",
    "print(df.movieId.max() + 1)  # Adding 1 because movieId starts from 0 after one-hot encoding\n",
    "print(len(train_dataset))\n"
   ]
  },
  {
   "cell_type": "code",
   "execution_count": 17,
   "id": "2fa42f98",
   "metadata": {
    "execution": {
     "iopub.execute_input": "2024-02-15T20:51:58.704837Z",
     "iopub.status.busy": "2024-02-15T20:51:58.704276Z",
     "iopub.status.idle": "2024-02-15T20:51:58.728239Z",
     "shell.execute_reply": "2024-02-15T20:51:58.727114Z"
    },
    "papermill": {
     "duration": 0.035578,
     "end_time": "2024-02-15T20:51:58.730227",
     "exception": false,
     "start_time": "2024-02-15T20:51:58.694649",
     "status": "completed"
    },
    "tags": []
   },
   "outputs": [
    {
     "name": "stdout",
     "output_type": "stream",
     "text": [
      "model_output: tensor([[0.1391],\n",
      "        [0.1391],\n",
      "        [0.1388],\n",
      "        [0.1384]]), size: torch.Size([4, 1])\n"
     ]
    }
   ],
   "source": [
    "with torch.no_grad():\n",
    "    model_output = model(dataloader_data['users_onehot'], \n",
    "                         dataloader_data['movies_onehot'])\n",
    "\n",
    "    print(f\"model_output: {model_output}, size: {model_output.size()}\")\n"
   ]
  },
  {
   "cell_type": "code",
   "execution_count": 18,
   "id": "1240e6a1",
   "metadata": {
    "execution": {
     "iopub.execute_input": "2024-02-15T20:51:58.748844Z",
     "iopub.status.busy": "2024-02-15T20:51:58.747681Z",
     "iopub.status.idle": "2024-02-15T20:51:58.759682Z",
     "shell.execute_reply": "2024-02-15T20:51:58.758299Z"
    },
    "papermill": {
     "duration": 0.023147,
     "end_time": "2024-02-15T20:51:58.761615",
     "exception": false,
     "start_time": "2024-02-15T20:51:58.738468",
     "status": "completed"
    },
    "tags": []
   },
   "outputs": [
    {
     "name": "stdout",
     "output_type": "stream",
     "text": [
      "tensor([3.5000, 5.0000, 4.5000, 3.5000])\n",
      "tensor([[3.5000],\n",
      "        [5.0000],\n",
      "        [4.5000],\n",
      "        [3.5000]])\n",
      "tensor([[0.1391],\n",
      "        [0.1391],\n",
      "        [0.1388],\n",
      "        [0.1384]])\n",
      "tensor(16.5000)\n",
      "tensor(-15.9447)\n"
     ]
    }
   ],
   "source": [
    "rating = dataloader_data[\"ratings\"]\n",
    "print(rating)\n",
    "print(rating.view(4, -1))\n",
    "print(model_output)\n",
    "\n",
    "print(rating.sum())\n",
    "\n",
    "print(model_output.sum() - rating.sum())"
   ]
  },
  {
   "cell_type": "code",
   "execution_count": 19,
   "id": "a6d7ca04",
   "metadata": {
    "execution": {
     "iopub.execute_input": "2024-02-15T20:51:58.779715Z",
     "iopub.status.busy": "2024-02-15T20:51:58.779222Z",
     "iopub.status.idle": "2024-02-15T21:08:15.027006Z",
     "shell.execute_reply": "2024-02-15T21:08:15.025593Z"
    },
    "papermill": {
     "duration": 976.259899,
     "end_time": "2024-02-15T21:08:15.029661",
     "exception": false,
     "start_time": "2024-02-15T20:51:58.769762",
     "status": "completed"
    },
    "tags": []
   },
   "outputs": [
    {
     "name": "stdout",
     "output_type": "stream",
     "text": [
      "epoch 0 loss at step: 5000 is 0.5233647870644927\n",
      "epoch 0 loss at step: 10000 is 0.07531063436465338\n",
      "epoch 0 loss at step: 15000 is 0.06002317675082013\n",
      "epoch 0 loss at step: 20000 is 0.05626815644307062\n",
      "epoch 0 loss at step: 25000 is 0.05493996717752889\n",
      "epoch 0 loss at step: 30000 is 0.05164325619270094\n",
      "epoch 0 loss at step: 35000 is 0.05170601395922713\n",
      "epoch 0 loss at step: 40000 is 0.05100405651591718\n",
      "epoch 0 loss at step: 45000 is 0.04932908554757014\n",
      "epoch 0 loss at step: 50000 is 0.0489154177788645\n",
      "epoch 0 loss at step: 55000 is 0.049780421742517504\n",
      "epoch 0 loss at step: 60000 is 0.04939890119056217\n",
      "epoch 0 loss at step: 65000 is 0.04796836871029809\n",
      "epoch 0 loss at step: 70000 is 0.04958104000575841\n",
      "epoch 0 loss at step: 75000 is 0.04787509916299023\n",
      "epoch 0 loss at step: 80000 is 0.04890434596342966\n",
      "epoch 0 loss at step: 85000 is 0.04848163078334183\n",
      "epoch 0 loss at step: 90000 is 0.04865908454684541\n"
     ]
    }
   ],
   "source": [
    "epochs = 1\n",
    "total_loss = 0\n",
    "plot_steps, print_steps = 5000, 5000\n",
    "step_cnt = 0\n",
    "all_losses_list = [] \n",
    "\n",
    "model.train() \n",
    "for epoch_i in range(epochs):\n",
    "    for i, train_data in enumerate(train_loader):\n",
    "        output = model(train_data[\"users_onehot\"], \n",
    "                       train_data[\"movies_onehot\"]\n",
    "                      ) \n",
    "        \n",
    "        rating = train_data[\"ratings\"].view(4, -1).to(torch.float32)\n",
    "\n",
    "        loss = loss_func(output, rating)\n",
    "        total_loss = total_loss + loss.sum().item()\n",
    "        optimizer.zero_grad()\n",
    "        loss.backward()\n",
    "        optimizer.step()\n",
    "\n",
    "        step_cnt = step_cnt + len(train_data[\"users_onehot\"])\n",
    "        \n",
    "\n",
    "        if(step_cnt % plot_steps == 0):\n",
    "            avg_loss = total_loss/(len(train_data[\"users_onehot\"]) * plot_steps)\n",
    "            print(f\"epoch {epoch_i} loss at step: {step_cnt} is {avg_loss}\")\n",
    "            all_losses_list.append(avg_loss)\n",
    "            total_loss = 0  # reset total_loss"
   ]
  },
  {
   "cell_type": "code",
   "execution_count": 20,
   "id": "4f66eb3e",
   "metadata": {
    "execution": {
     "iopub.execute_input": "2024-02-15T21:08:15.054396Z",
     "iopub.status.busy": "2024-02-15T21:08:15.053994Z",
     "iopub.status.idle": "2024-02-15T21:08:31.301854Z",
     "shell.execute_reply": "2024-02-15T21:08:31.300337Z"
    },
    "papermill": {
     "duration": 16.26466,
     "end_time": "2024-02-15T21:08:31.304399",
     "exception": false,
     "start_time": "2024-02-15T21:08:15.039739",
     "status": "completed"
    },
    "tags": []
   },
   "outputs": [
    {
     "name": "stdout",
     "output_type": "stream",
     "text": [
      "rms: 0.43832233830271006\n"
     ]
    }
   ],
   "source": [
    "from sklearn.metrics import mean_squared_error\n",
    "\n",
    "model_output_list = []\n",
    "target_rating_list = []\n",
    "\n",
    "model.eval()\n",
    "\n",
    "with torch.no_grad():\n",
    "    for i, batched_data in enumerate(validation_loader): \n",
    "        model_output = model(batched_data['users_onehot'], \n",
    "                             batched_data['movies_onehot'])\n",
    "        \n",
    "        model_output_list.append(model_output.sum().item() / len(batched_data['users_onehot']))\n",
    "\n",
    "        target_rating = batched_data[\"ratings\"]\n",
    "        \n",
    "        target_rating_list.append(target_rating.sum().item() / len(batched_data['users_onehot']))\n",
    "\n",
    "# squared If True returns MSE value, if False returns RMSE value.\n",
    "rms = mean_squared_error(target_rating_list, model_output_list, squared=False)\n",
    "print(f\"rms: {rms}\")\n"
   ]
  },
  {
   "cell_type": "code",
   "execution_count": 21,
   "id": "947260e2",
   "metadata": {
    "execution": {
     "iopub.execute_input": "2024-02-15T21:08:31.325412Z",
     "iopub.status.busy": "2024-02-15T21:08:31.325026Z",
     "iopub.status.idle": "2024-02-15T21:08:47.549903Z",
     "shell.execute_reply": "2024-02-15T21:08:47.548640Z"
    },
    "papermill": {
     "duration": 16.237921,
     "end_time": "2024-02-15T21:08:47.552204",
     "exception": false,
     "start_time": "2024-02-15T21:08:31.314283",
     "status": "completed"
    },
    "tags": []
   },
   "outputs": [
    {
     "name": "stdout",
     "output_type": "stream",
     "text": [
      "Average Predicted Rating of Test Item: 3.4544063937753875\n"
     ]
    }
   ],
   "source": [
    "predicted_ratings_list = []\n",
    "\n",
    "with torch.no_grad():\n",
    "    for i, batched_data in enumerate(validation_loader): \n",
    "        \n",
    "        model_output = model(batched_data['users_onehot'], batched_data['movies_onehot'])\n",
    "        \n",
    "        for user_idx in range(len(batched_data['users_onehot'])):\n",
    "            # Get the index of the test item (movie with the highest rating)\n",
    "            test_item_index = torch.argmax(batched_data[\"ratings\"][user_idx]).item()\n",
    "\n",
    "            # Predict rating for the test item\n",
    "            predicted_rating = model_output[user_idx, test_item_index].item()\n",
    "            predicted_ratings_list.append(predicted_rating)\n",
    "\n",
    "        \n",
    "# Calculate average predicted rating\n",
    "average_predicted_rating = np.mean(predicted_ratings_list)\n",
    "print(f\"Average Predicted Rating of Test Item: {average_predicted_rating}\")\n"
   ]
  },
  {
   "cell_type": "code",
   "execution_count": 22,
   "id": "3335110c",
   "metadata": {
    "execution": {
     "iopub.execute_input": "2024-02-15T21:08:47.573227Z",
     "iopub.status.busy": "2024-02-15T21:08:47.572793Z",
     "iopub.status.idle": "2024-02-15T21:09:06.393688Z",
     "shell.execute_reply": "2024-02-15T21:09:06.392464Z"
    },
    "papermill": {
     "duration": 18.834121,
     "end_time": "2024-02-15T21:09:06.396028",
     "exception": false,
     "start_time": "2024-02-15T21:08:47.561907",
     "status": "completed"
    },
    "tags": []
   },
   "outputs": [],
   "source": [
    "import pandas as pd\n",
    "import numpy as np\n",
    "\n",
    "# Group by user ID and collect rated movie IDs and their ratings for each user\n",
    "rated_movies_by_user = df.groupby('userId').apply(lambda x: x.nlargest(1, 'rating')).reset_index(drop=True)\n",
    "\n",
    "# Initialize a list to store HR evaluation data\n",
    "hr_evaluation_data = []\n",
    "\n",
    "# Iterate through each user\n",
    "for user_id, rated_movie_data in rated_movies_by_user.iterrows():\n",
    "    rated_movie_id = rated_movie_data['movieId']\n",
    "    rated_movie_rating = rated_movie_data['rating']\n",
    "    \n",
    "    # Extract unrated movie IDs\n",
    "    all_movie_ids = df['movieId'].unique()\n",
    "    rated_movie_ids = df[df['userId'] == user_id]['movieId'].unique()\n",
    "    unrated_movie_ids = [movie_id for movie_id in all_movie_ids if movie_id not in rated_movie_ids]\n",
    "    \n",
    "    # Sample 100 unrated movie IDs if available\n",
    "    if len(unrated_movie_ids) >= 100:\n",
    "        sampled_movie_ids = np.random.choice(unrated_movie_ids, size=100, replace=False)\n",
    "    else:\n",
    "        sampled_movie_ids = unrated_movie_ids\n",
    "    \n",
    "    # Create HR evaluation data for the user\n",
    "    for movie_id in sampled_movie_ids:\n",
    "        hr_evaluation_data.append({'userId': user_id, 'movieId': movie_id, 'rating': 0})\n",
    "    \n",
    "    # Append the movie with the highest rating for the user\n",
    "    hr_evaluation_data.append({'userId': user_id, 'movieId': rated_movie_id, 'rating': rated_movie_rating})\n",
    "\n",
    "# Create a DataFrame from the HR evaluation data\n",
    "hr_evaluation_df = pd.DataFrame(hr_evaluation_data)\n",
    "\n",
    "# Save the DataFrame to a CSV file\n",
    "hr_evaluation_df.to_csv('/kaggle/working/hr_evaluation_data.csv', index=False)\n"
   ]
  },
  {
   "cell_type": "code",
   "execution_count": 23,
   "id": "bd6571c3",
   "metadata": {
    "execution": {
     "iopub.execute_input": "2024-02-15T21:09:06.416152Z",
     "iopub.status.busy": "2024-02-15T21:09:06.415810Z",
     "iopub.status.idle": "2024-02-15T21:09:06.421628Z",
     "shell.execute_reply": "2024-02-15T21:09:06.420430Z"
    },
    "papermill": {
     "duration": 0.018681,
     "end_time": "2024-02-15T21:09:06.424066",
     "exception": false,
     "start_time": "2024-02-15T21:09:06.405385",
     "status": "completed"
    },
    "tags": []
   },
   "outputs": [],
   "source": [
    "hr_evaluation_df['movieId'] = hr_evaluation_df['movieId'].astype(int)\n"
   ]
  },
  {
   "cell_type": "code",
   "execution_count": 24,
   "id": "c488fa0a",
   "metadata": {
    "execution": {
     "iopub.execute_input": "2024-02-15T21:09:06.444643Z",
     "iopub.status.busy": "2024-02-15T21:09:06.443753Z",
     "iopub.status.idle": "2024-02-15T21:09:06.456696Z",
     "shell.execute_reply": "2024-02-15T21:09:06.456134Z"
    },
    "papermill": {
     "duration": 0.024953,
     "end_time": "2024-02-15T21:09:06.458421",
     "exception": false,
     "start_time": "2024-02-15T21:09:06.433468",
     "status": "completed"
    },
    "tags": []
   },
   "outputs": [
    {
     "data": {
      "text/html": [
       "<div>\n",
       "<style scoped>\n",
       "    .dataframe tbody tr th:only-of-type {\n",
       "        vertical-align: middle;\n",
       "    }\n",
       "\n",
       "    .dataframe tbody tr th {\n",
       "        vertical-align: top;\n",
       "    }\n",
       "\n",
       "    .dataframe thead th {\n",
       "        text-align: right;\n",
       "    }\n",
       "</style>\n",
       "<table border=\"1\" class=\"dataframe\">\n",
       "  <thead>\n",
       "    <tr style=\"text-align: right;\">\n",
       "      <th></th>\n",
       "      <th>userId</th>\n",
       "      <th>movieId</th>\n",
       "      <th>rating</th>\n",
       "    </tr>\n",
       "  </thead>\n",
       "  <tbody>\n",
       "    <tr>\n",
       "      <th>0</th>\n",
       "      <td>0</td>\n",
       "      <td>116738</td>\n",
       "      <td>0.0</td>\n",
       "    </tr>\n",
       "    <tr>\n",
       "      <th>1</th>\n",
       "      <td>0</td>\n",
       "      <td>2672</td>\n",
       "      <td>0.0</td>\n",
       "    </tr>\n",
       "    <tr>\n",
       "      <th>2</th>\n",
       "      <td>0</td>\n",
       "      <td>138036</td>\n",
       "      <td>0.0</td>\n",
       "    </tr>\n",
       "    <tr>\n",
       "      <th>3</th>\n",
       "      <td>0</td>\n",
       "      <td>42191</td>\n",
       "      <td>0.0</td>\n",
       "    </tr>\n",
       "    <tr>\n",
       "      <th>4</th>\n",
       "      <td>0</td>\n",
       "      <td>110773</td>\n",
       "      <td>0.0</td>\n",
       "    </tr>\n",
       "    <tr>\n",
       "      <th>...</th>\n",
       "      <td>...</td>\n",
       "      <td>...</td>\n",
       "      <td>...</td>\n",
       "    </tr>\n",
       "    <tr>\n",
       "      <th>61605</th>\n",
       "      <td>609</td>\n",
       "      <td>58870</td>\n",
       "      <td>0.0</td>\n",
       "    </tr>\n",
       "    <tr>\n",
       "      <th>61606</th>\n",
       "      <td>609</td>\n",
       "      <td>99813</td>\n",
       "      <td>0.0</td>\n",
       "    </tr>\n",
       "    <tr>\n",
       "      <th>61607</th>\n",
       "      <td>609</td>\n",
       "      <td>596</td>\n",
       "      <td>0.0</td>\n",
       "    </tr>\n",
       "    <tr>\n",
       "      <th>61608</th>\n",
       "      <td>609</td>\n",
       "      <td>33188</td>\n",
       "      <td>0.0</td>\n",
       "    </tr>\n",
       "    <tr>\n",
       "      <th>61609</th>\n",
       "      <td>609</td>\n",
       "      <td>1</td>\n",
       "      <td>5.0</td>\n",
       "    </tr>\n",
       "  </tbody>\n",
       "</table>\n",
       "<p>61610 rows × 3 columns</p>\n",
       "</div>"
      ],
      "text/plain": [
       "       userId  movieId  rating\n",
       "0           0   116738     0.0\n",
       "1           0     2672     0.0\n",
       "2           0   138036     0.0\n",
       "3           0    42191     0.0\n",
       "4           0   110773     0.0\n",
       "...       ...      ...     ...\n",
       "61605     609    58870     0.0\n",
       "61606     609    99813     0.0\n",
       "61607     609      596     0.0\n",
       "61608     609    33188     0.0\n",
       "61609     609        1     5.0\n",
       "\n",
       "[61610 rows x 3 columns]"
      ]
     },
     "execution_count": 24,
     "metadata": {},
     "output_type": "execute_result"
    }
   ],
   "source": [
    "hr_evaluation_df"
   ]
  },
  {
   "cell_type": "code",
   "execution_count": 25,
   "id": "03033e7f",
   "metadata": {
    "execution": {
     "iopub.execute_input": "2024-02-15T21:09:06.479587Z",
     "iopub.status.busy": "2024-02-15T21:09:06.478722Z",
     "iopub.status.idle": "2024-02-15T21:09:06.484823Z",
     "shell.execute_reply": "2024-02-15T21:09:06.483597Z"
    },
    "papermill": {
     "duration": 0.019032,
     "end_time": "2024-02-15T21:09:06.487003",
     "exception": false,
     "start_time": "2024-02-15T21:09:06.467971",
     "status": "completed"
    },
    "tags": []
   },
   "outputs": [],
   "source": [
    "# Get the number of unique users and movies\n",
    "nn_users = hr_evaluation_df.userId.nunique()\n",
    "nn_movies = hr_evaluation_df.movieId.max() + 1\n",
    "\n",
    "\n"
   ]
  },
  {
   "cell_type": "code",
   "execution_count": 26,
   "id": "23a84deb",
   "metadata": {
    "execution": {
     "iopub.execute_input": "2024-02-15T21:09:06.507546Z",
     "iopub.status.busy": "2024-02-15T21:09:06.507212Z",
     "iopub.status.idle": "2024-02-15T21:09:06.511712Z",
     "shell.execute_reply": "2024-02-15T21:09:06.510885Z"
    },
    "papermill": {
     "duration": 0.016808,
     "end_time": "2024-02-15T21:09:06.513466",
     "exception": false,
     "start_time": "2024-02-15T21:09:06.496658",
     "status": "completed"
    },
    "tags": []
   },
   "outputs": [
    {
     "name": "stdout",
     "output_type": "stream",
     "text": [
      "610\n",
      "193610\n"
     ]
    }
   ],
   "source": [
    "print(nn_users)\n",
    "print(nn_movies)"
   ]
  },
  {
   "cell_type": "code",
   "execution_count": 27,
   "id": "7940257b",
   "metadata": {
    "execution": {
     "iopub.execute_input": "2024-02-15T21:09:06.534149Z",
     "iopub.status.busy": "2024-02-15T21:09:06.533767Z",
     "iopub.status.idle": "2024-02-15T21:09:06.539207Z",
     "shell.execute_reply": "2024-02-15T21:09:06.537929Z"
    },
    "papermill": {
     "duration": 0.018329,
     "end_time": "2024-02-15T21:09:06.541429",
     "exception": false,
     "start_time": "2024-02-15T21:09:06.523100",
     "status": "completed"
    },
    "tags": []
   },
   "outputs": [],
   "source": [
    "hr_eval_dataset = MovieDataset(hr_evaluation_df, nn_users, nn_movies)"
   ]
  },
  {
   "cell_type": "code",
   "execution_count": 28,
   "id": "b486b5cf",
   "metadata": {
    "execution": {
     "iopub.execute_input": "2024-02-15T21:09:06.561702Z",
     "iopub.status.busy": "2024-02-15T21:09:06.561346Z",
     "iopub.status.idle": "2024-02-15T21:09:06.566814Z",
     "shell.execute_reply": "2024-02-15T21:09:06.565645Z"
    },
    "papermill": {
     "duration": 0.01767,
     "end_time": "2024-02-15T21:09:06.568713",
     "exception": false,
     "start_time": "2024-02-15T21:09:06.551043",
     "status": "completed"
    },
    "tags": []
   },
   "outputs": [],
   "source": [
    "hr_eval_loader = DataLoader(dataset=hr_eval_dataset, batch_size=4, shuffle=True, num_workers=2)"
   ]
  },
  {
   "cell_type": "code",
   "execution_count": 29,
   "id": "73eaca08",
   "metadata": {
    "execution": {
     "iopub.execute_input": "2024-02-15T21:09:06.589468Z",
     "iopub.status.busy": "2024-02-15T21:09:06.589132Z",
     "iopub.status.idle": "2024-02-15T21:09:06.645431Z",
     "shell.execute_reply": "2024-02-15T21:09:06.644247Z"
    },
    "papermill": {
     "duration": 0.068962,
     "end_time": "2024-02-15T21:09:06.647666",
     "exception": false,
     "start_time": "2024-02-15T21:09:06.578704",
     "status": "completed"
    },
    "tags": []
   },
   "outputs": [
    {
     "name": "stdout",
     "output_type": "stream",
     "text": [
      "{'users_onehot': tensor([[0., 0., 0.,  ..., 0., 0., 0.],\n",
      "        [0., 0., 0.,  ..., 0., 0., 0.],\n",
      "        [0., 0., 0.,  ..., 0., 0., 0.],\n",
      "        [0., 0., 0.,  ..., 0., 0., 0.]]), 'movies_onehot': tensor([[0., 0., 0.,  ..., 0., 0., 0.],\n",
      "        [0., 0., 0.,  ..., 0., 0., 0.],\n",
      "        [0., 0., 0.,  ..., 0., 0., 0.],\n",
      "        [0., 0., 0.,  ..., 0., 0., 0.]]), 'ratings': tensor([0., 0., 0., 0.])}\n"
     ]
    }
   ],
   "source": [
    "dataitern = iter(hr_eval_loader)\n",
    "\n",
    "for dataloader_dataa in dataitern:\n",
    "    print(dataloader_dataa)\n",
    "    break"
   ]
  },
  {
   "cell_type": "code",
   "execution_count": 30,
   "id": "62b38e0f",
   "metadata": {
    "execution": {
     "iopub.execute_input": "2024-02-15T21:09:06.669181Z",
     "iopub.status.busy": "2024-02-15T21:09:06.668586Z",
     "iopub.status.idle": "2024-02-15T21:09:06.675137Z",
     "shell.execute_reply": "2024-02-15T21:09:06.674025Z"
    },
    "papermill": {
     "duration": 0.019465,
     "end_time": "2024-02-15T21:09:06.677045",
     "exception": false,
     "start_time": "2024-02-15T21:09:06.657580",
     "status": "completed"
    },
    "tags": []
   },
   "outputs": [],
   "source": [
    "# Get all user IDs\n",
    "all_user_ids = df['userId'].unique()\n"
   ]
  },
  {
   "cell_type": "code",
   "execution_count": 31,
   "id": "0f1087c8",
   "metadata": {
    "execution": {
     "iopub.execute_input": "2024-02-15T21:09:06.699180Z",
     "iopub.status.busy": "2024-02-15T21:09:06.698789Z",
     "iopub.status.idle": "2024-02-15T21:10:44.074408Z",
     "shell.execute_reply": "2024-02-15T21:10:44.073328Z"
    },
    "papermill": {
     "duration": 97.38991,
     "end_time": "2024-02-15T21:10:44.076633",
     "exception": false,
     "start_time": "2024-02-15T21:09:06.686723",
     "status": "completed"
    },
    "tags": []
   },
   "outputs": [],
   "source": [
    "model_output_list = []\n",
    "target_rating_list = []\n",
    "\n",
    "model.eval()\n",
    "\n",
    "with torch.no_grad():\n",
    "    for i, batched_data in enumerate(hr_eval_loader): \n",
    "        model_output = model(batched_data['users_onehot'], \n",
    "                             batched_data['movies_onehot'])\n",
    "        \n",
    "        model_output_list.append(model_output.sum().item() / len(batched_data['users_onehot']))\n",
    "\n",
    "        target_rating = batched_data[\"ratings\"]\n",
    "        \n",
    "        target_rating_list.append(target_rating.sum().item() / len(batched_data['users_onehot']))\n",
    "\n"
   ]
  },
  {
   "cell_type": "code",
   "execution_count": 32,
   "id": "11588371",
   "metadata": {
    "execution": {
     "iopub.execute_input": "2024-02-15T21:10:44.098313Z",
     "iopub.status.busy": "2024-02-15T21:10:44.097907Z",
     "iopub.status.idle": "2024-02-15T21:13:11.504587Z",
     "shell.execute_reply": "2024-02-15T21:13:11.503626Z"
    },
    "papermill": {
     "duration": 147.428752,
     "end_time": "2024-02-15T21:13:11.515572",
     "exception": false,
     "start_time": "2024-02-15T21:10:44.086820",
     "status": "completed"
    },
    "tags": []
   },
   "outputs": [
    {
     "name": "stdout",
     "output_type": "stream",
     "text": [
      "Hit rate: 0.24278526213277066\n"
     ]
    }
   ],
   "source": [
    "import pandas as pd\n",
    "\n",
    "# Create an empty list to store predictions for each user\n",
    "predictions_per_user = []\n",
    "\n",
    "# Iterate over the predictions and store them in a list\n",
    "for i, batched_data in enumerate(hr_eval_loader): \n",
    "    model_output = model(batched_data['users_onehot'], \n",
    "                         batched_data['movies_onehot'])\n",
    "    \n",
    "    # Store the predictions for the current batch\n",
    "    predictions_per_user.extend(model_output.tolist())\n",
    "\n",
    "# Initialize a variable to count hits\n",
    "hits_count = 0\n",
    "\n",
    "# Iterate over each user's predictions\n",
    "for user_predictions, batched_data in zip(predictions_per_user, hr_eval_loader):\n",
    "    # Rank the top 10 movies according to predicted ratings\n",
    "    top_10_recommendations = sorted(enumerate(user_predictions), key=lambda x: x[1], reverse=True)[:10]\n",
    "    \n",
    "    # Get the index of the highest rated item for the user\n",
    "    highest_rated_item_index = batched_data['ratings'].argmax().item()\n",
    "    \n",
    "    # Check if the index of the highest rated item is present in the top 10 recommendations\n",
    "    if highest_rated_item_index in [idx for idx, _ in top_10_recommendations]:\n",
    "        hits_count += 1\n",
    "\n",
    "# Calculate hit rate\n",
    "hit_rate = hits_count / len(predictions_per_user)\n",
    "print(\"Hit rate:\", hit_rate)\n"
   ]
  },
  {
   "cell_type": "code",
   "execution_count": 33,
   "id": "d3e564c5",
   "metadata": {
    "execution": {
     "iopub.execute_input": "2024-02-15T21:13:11.537270Z",
     "iopub.status.busy": "2024-02-15T21:13:11.536843Z",
     "iopub.status.idle": "2024-02-15T21:13:56.369983Z",
     "shell.execute_reply": "2024-02-15T21:13:56.368774Z"
    },
    "papermill": {
     "duration": 44.855022,
     "end_time": "2024-02-15T21:13:56.380721",
     "exception": false,
     "start_time": "2024-02-15T21:13:11.525699",
     "status": "completed"
    },
    "tags": []
   },
   "outputs": [
    {
     "name": "stdout",
     "output_type": "stream",
     "text": [
      "Hit rate for users with highest rating of 5: 0.2596491228070175\n"
     ]
    }
   ],
   "source": [
    "# Initialize a variable to count hits and total users with the highest rating of 5\n",
    "hits_count = 0\n",
    "users_with_highest_rating_5 = 0\n",
    "\n",
    "# Iterate over each user's predictions\n",
    "for user_predictions, batched_data in zip(predictions_per_user, hr_eval_loader):\n",
    "    # Get the index of the highest rated item for the user\n",
    "    highest_rated_item_index = batched_data['ratings'].argmax().item()\n",
    "    \n",
    "    # Check if the highest rating for the user is 5\n",
    "    if batched_data['ratings'][highest_rated_item_index] == 5:\n",
    "        users_with_highest_rating_5 += 1\n",
    "        \n",
    "        # Rank the top 10 movies according to predicted ratings\n",
    "        top_10_recommendations = sorted(enumerate(user_predictions), key=lambda x: x[1], reverse=True)[:10]\n",
    "        \n",
    "        # Check if the index of the highest rated item is present in the top 10 recommendations\n",
    "        if highest_rated_item_index in [idx for idx, _ in top_10_recommendations]:\n",
    "            hits_count += 1\n",
    "\n",
    "# Calculate hit rate only for users with the highest rating of 5\n",
    "if users_with_highest_rating_5 > 0:\n",
    "    hit_rate = hits_count / users_with_highest_rating_5\n",
    "else:\n",
    "    hit_rate = 0  # To avoid division by zero error\n",
    "\n",
    "print(\"Hit rate for users with highest rating of 5:\", hit_rate)\n"
   ]
  },
  {
   "cell_type": "code",
   "execution_count": 34,
   "id": "575ae4b4",
   "metadata": {
    "execution": {
     "iopub.execute_input": "2024-02-15T21:13:56.403117Z",
     "iopub.status.busy": "2024-02-15T21:13:56.402755Z",
     "iopub.status.idle": "2024-02-15T21:14:40.751793Z",
     "shell.execute_reply": "2024-02-15T21:14:40.750793Z"
    },
    "papermill": {
     "duration": 44.372765,
     "end_time": "2024-02-15T21:14:40.763821",
     "exception": false,
     "start_time": "2024-02-15T21:13:56.391056",
     "status": "completed"
    },
    "tags": []
   },
   "outputs": [
    {
     "name": "stdout",
     "output_type": "stream",
     "text": [
      "Hit rate considering rank ties and top 10 recommendations: 0.24301249797110858\n"
     ]
    }
   ],
   "source": [
    "# Initialize a variable to count hits\n",
    "hits_count = 0\n",
    "\n",
    "# Iterate over each user's predictions\n",
    "for user_predictions, batched_data in zip(predictions_per_user, hr_eval_loader):\n",
    "    # Rank the movies according to predicted ratings\n",
    "    ranked_movies = sorted(enumerate(user_predictions), key=lambda x: x[1], reverse=True)\n",
    "    \n",
    "    # Get the index of the highest rated item for the user\n",
    "    highest_rated_item_index = batched_data['ratings'].argmax().item()\n",
    "    \n",
    "    # Initialize k to 0\n",
    "    k = 0\n",
    "    \n",
    "    # Track the previous rating to detect rank changes\n",
    "    previous_rating = None\n",
    "    \n",
    "    # Iterate through the top 10 recommendations\n",
    "    for idx, (movie_idx, rating) in enumerate(ranked_movies[:10]):\n",
    "        if rating != previous_rating:\n",
    "            # Include all movies with the same rating until a change in the ranking\n",
    "            k += 1\n",
    "            if k == 11:  # Limit to top 10 recommendations\n",
    "                break\n",
    "        # Check if the index of the highest rated item is present in the top k recommendations\n",
    "        if movie_idx == highest_rated_item_index:\n",
    "            hits_count += 1\n",
    "            break  # No need to continue if hit is found\n",
    "        previous_rating = rating\n",
    "    \n",
    "# Calculate hit rate\n",
    "hit_rate = hits_count / len(predictions_per_user)\n",
    "print(\"Hit rate considering rank ties and top 10 recommendations:\", hit_rate)\n"
   ]
  },
  {
   "cell_type": "code",
   "execution_count": null,
   "id": "a7f76d0f",
   "metadata": {
    "papermill": {
     "duration": 0.009447,
     "end_time": "2024-02-15T21:14:40.782674",
     "exception": false,
     "start_time": "2024-02-15T21:14:40.773227",
     "status": "completed"
    },
    "tags": []
   },
   "outputs": [],
   "source": []
  }
 ],
 "metadata": {
  "kaggle": {
   "accelerator": "none",
   "dataSources": [
    {
     "datasetId": 3660994,
     "sourceId": 6356268,
     "sourceType": "datasetVersion"
    }
   ],
   "dockerImageVersionId": 30626,
   "isGpuEnabled": false,
   "isInternetEnabled": true,
   "language": "python",
   "sourceType": "notebook"
  },
  "kernelspec": {
   "display_name": "Python 3",
   "language": "python",
   "name": "python3"
  },
  "language_info": {
   "codemirror_mode": {
    "name": "ipython",
    "version": 3
   },
   "file_extension": ".py",
   "mimetype": "text/x-python",
   "name": "python",
   "nbconvert_exporter": "python",
   "pygments_lexer": "ipython3",
   "version": "3.10.12"
  },
  "papermill": {
   "default_parameters": {},
   "duration": 1375.016135,
   "end_time": "2024-02-15T21:14:43.415172",
   "environment_variables": {},
   "exception": null,
   "input_path": "__notebook__.ipynb",
   "output_path": "__notebook__.ipynb",
   "parameters": {},
   "start_time": "2024-02-15T20:51:48.399037",
   "version": "2.4.0"
  }
 },
 "nbformat": 4,
 "nbformat_minor": 5
}
